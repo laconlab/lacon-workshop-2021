{
 "cells": [
  {
   "cell_type": "code",
   "execution_count": 1,
   "metadata": {},
   "outputs": [],
   "source": [
    "import pandas as pd\n",
    "from sklearn.model_selection import train_test_split\n",
    "from sklearn.feature_extraction.text import CountVectorizer\n",
    "from sklearn.ensemble import RandomForestClassifier\n",
    "from sklearn.model_selection import cross_val_score\n",
    "from sklearn.metrics import f1_score\n",
    "from sklearn.metrics import plot_confusion_matrix\n",
    "import matplotlib.pyplot as plt"
   ]
  },
  {
   "cell_type": "markdown",
   "metadata": {},
   "source": [
    "## Ucitavanje podataka"
   ]
  },
  {
   "cell_type": "code",
   "execution_count": 2,
   "metadata": {},
   "outputs": [
    {
     "data": {
      "text/html": [
       "<div>\n",
       "<style scoped>\n",
       "    .dataframe tbody tr th:only-of-type {\n",
       "        vertical-align: middle;\n",
       "    }\n",
       "\n",
       "    .dataframe tbody tr th {\n",
       "        vertical-align: top;\n",
       "    }\n",
       "\n",
       "    .dataframe thead th {\n",
       "        text-align: right;\n",
       "    }\n",
       "</style>\n",
       "<table border=\"1\" class=\"dataframe\">\n",
       "  <thead>\n",
       "    <tr style=\"text-align: right;\">\n",
       "      <th></th>\n",
       "      <th>rijec</th>\n",
       "      <th>klasa</th>\n",
       "    </tr>\n",
       "  </thead>\n",
       "  <tbody>\n",
       "    <tr>\n",
       "      <th>0</th>\n",
       "      <td>posvijetli</td>\n",
       "      <td>0</td>\n",
       "    </tr>\n",
       "    <tr>\n",
       "      <th>1</th>\n",
       "      <td>spektakularniju</td>\n",
       "      <td>0</td>\n",
       "    </tr>\n",
       "    <tr>\n",
       "      <th>2</th>\n",
       "      <td>monogamist</td>\n",
       "      <td>1</td>\n",
       "    </tr>\n",
       "    <tr>\n",
       "      <th>3</th>\n",
       "      <td>prijavu</td>\n",
       "      <td>0</td>\n",
       "    </tr>\n",
       "    <tr>\n",
       "      <th>4</th>\n",
       "      <td>fotografiravši</td>\n",
       "      <td>0</td>\n",
       "    </tr>\n",
       "  </tbody>\n",
       "</table>\n",
       "</div>"
      ],
      "text/plain": [
       "             rijec  klasa\n",
       "0       posvijetli      0\n",
       "1  spektakularniju      0\n",
       "2       monogamist      1\n",
       "3          prijavu      0\n",
       "4   fotografiravši      0"
      ]
     },
     "execution_count": 2,
     "metadata": {},
     "output_type": "execute_result"
    }
   ],
   "source": [
    "# url kako se ne bi trebalo skidati lokalno csv file, vec se moze direktno skinuti s github-a (korisno za google colab)\n",
    "URL_PODATAKA = 'https://raw.githubusercontent.com/laconlab/lacon-workshop-2021/main/podaci.csv'\n",
    "podaci = pd.read_csv(URL_PODATAKA)\n",
    "podaci.head()"
   ]
  },
  {
   "cell_type": "markdown",
   "metadata": {},
   "source": [
    "klasa 0 oznacava hrvatsku rijec, a kalasa 1 oznacava englesku rijec"
   ]
  },
  {
   "cell_type": "markdown",
   "metadata": {},
   "source": [
    "## Higijena podataka"
   ]
  },
  {
   "cell_type": "code",
   "execution_count": 3,
   "metadata": {},
   "outputs": [],
   "source": [
    "# odvajanje skupova za ucenje i testiranje\n",
    "rijeci_ucenje, rijeci_test, klase_ucenje, klase_test =\\\n",
    "    train_test_split(\n",
    "    podaci['rijec'],\n",
    "    podaci['klasa'],\n",
    "    test_size=0.2\n",
    ")"
   ]
  },
  {
   "cell_type": "markdown",
   "metadata": {},
   "source": [
    "detaljnije o funkciji train_test_split na [sluzbenoj dokumentaciji](https://scikit-learn.org/stable/modules/generated/sklearn.model_selection.train_test_split.html) gdje su i objasnjeni parametri poput random_state i test_size\n",
    "\n",
    "podaci za testiranje se ne diraju sve do samog kraja. Ako se neka odluka o modelu donese nakon ste se testira model, tesni podaci vise nisu valjani i to je se ne radi!"
   ]
  },
  {
   "cell_type": "markdown",
   "metadata": {},
   "source": [
    "## N-gram\n",
    "\n",
    "npr. za rijec \"prijavu\" 1-gram bi izgledao p, r, i, j, a, v, u. Dok za 2-gram bi izgledalo: pr, ri, ij, ja, av, vu. Itd za ostale n-grame."
   ]
  },
  {
   "cell_type": "code",
   "execution_count": 4,
   "metadata": {},
   "outputs": [],
   "source": [
    "transformator = CountVectorizer(ngram_range=(1, 3), analyzer='char')"
   ]
  },
  {
   "cell_type": "markdown",
   "metadata": {},
   "source": [
    "Za primjer smo uzeli koristenje n-grama s velicinom 1, 2 i 3 (argument ngram_range) i po znakovima (argument analyzer='char'). Za vise opcija pogledajte [dokumentaciju](https://scikit-learn.org/stable/modules/generated/sklearn.feature_extraction.text.CountVectorizer.html)"
   ]
  },
  {
   "cell_type": "code",
   "execution_count": 5,
   "metadata": {},
   "outputs": [],
   "source": [
    "# izvlacimo n-grame iz rijeci za ucenje, na kraju cemo slicno napraviti i za rijeci za testiranje\n",
    "ngram_ucenje = transformator.fit_transform(rijeci_ucenje)"
   ]
  },
  {
   "cell_type": "markdown",
   "metadata": {},
   "source": [
    "## Ucenje i podesavanje modela\n",
    "\n",
    "za model smo odabrali nasumicnu sumu, koja sadrzava vise stabala eng [random forest](https://scikit-learn.org/stable/modules/generated/sklearn.ensemble.RandomForestClassifier.html).\n",
    "\n",
    "U iducem koraku koristimo [k-flod](https://scikit-learn.org/stable/modules/generated/sklearn.model_selection.KFold.html) za prilagodbu modela koristenjem [cross_val_score](https://scikit-learn.org/stable/modules/cross_validation.html) funkcije"
   ]
  },
  {
   "cell_type": "code",
   "execution_count": 6,
   "metadata": {},
   "outputs": [
    {
     "name": "stdout",
     "output_type": "stream",
     "text": [
      "Avg F1 0.864\n"
     ]
    }
   ],
   "source": [
    "# definiranje modela koji ce biti nasumicna stabla s navecom dubinom od 3 grane\n",
    "model = RandomForestClassifier(n_estimators=100, max_depth=3)\n",
    "# ucenje modela nad n-gramima za ucenje\n",
    "rezultati = cross_val_score(model, ngram_ucenje, klase_ucenje)\n",
    "print(f'Avg F1 {rezultati.mean():.3f}')"
   ]
  },
  {
   "cell_type": "markdown",
   "metadata": {},
   "source": [
    "nakon odredjivanja optimalnih parametara slijedi ucenje modela"
   ]
  },
  {
   "cell_type": "code",
   "execution_count": 7,
   "metadata": {},
   "outputs": [
    {
     "data": {
      "text/plain": [
       "RandomForestClassifier(max_depth=3)"
      ]
     },
     "execution_count": 7,
     "metadata": {},
     "output_type": "execute_result"
    }
   ],
   "source": [
    "model.fit(ngram_ucenje, klase_ucenje)"
   ]
  },
  {
   "cell_type": "markdown",
   "metadata": {},
   "source": [
    "## Testiranje modela na podacima za testiranje\n",
    "\n",
    "Prvo moramo dobiti n-grame iz rijeci za testiranje"
   ]
  },
  {
   "cell_type": "code",
   "execution_count": 8,
   "metadata": {},
   "outputs": [],
   "source": [
    "ngram_test = transformator.transform(rijeci_test)"
   ]
  },
  {
   "cell_type": "markdown",
   "metadata": {},
   "source": [
    "zatim napravimo predvidjanje"
   ]
  },
  {
   "cell_type": "code",
   "execution_count": 9,
   "metadata": {},
   "outputs": [],
   "source": [
    "predvidjene_klase = model.predict(ngram_test)"
   ]
  },
  {
   "cell_type": "markdown",
   "metadata": {},
   "source": [
    "te konacno usporedimo predvidjanje s stvarnim klasama i dobijemo konacni rezultat koliko je nas model dobar u predvidjanju"
   ]
  },
  {
   "cell_type": "code",
   "execution_count": 10,
   "metadata": {},
   "outputs": [
    {
     "name": "stdout",
     "output_type": "stream",
     "text": [
      "F1 rezultat: 0.876\n"
     ]
    }
   ],
   "source": [
    "rezultat = f1_score(klase_test, predvidjene_klase)\n",
    "print(f'F1 rezultat: {rezultat:.3f}')"
   ]
  },
  {
   "cell_type": "markdown",
   "metadata": {},
   "source": [
    "dodatno mozemo prikazati gdje nam model grijesi"
   ]
  },
  {
   "cell_type": "code",
   "execution_count": 11,
   "metadata": {},
   "outputs": [
    {
     "data": {
      "image/png": "[encoded data removed]",
      "text/plain": [
       "<Figure size 432x288 with 2 Axes>"
      ]
     },
     "metadata": {
      "needs_background": "light"
     },
     "output_type": "display_data"
    }
   ],
   "source": [
    "plot_confusion_matrix(\n",
    "    model, ngram_test, klase_test,\n",
    "    cmap=plt.cm.Blues,\n",
    "    display_labels=['ne eng rijeci', 'engleske rijeci']);"
   ]
  },
  {
   "cell_type": "code",
   "execution_count": null,
   "metadata": {},
   "outputs": [],
   "source": []
  }
 ],
 "metadata": {
  "kernelspec": {
   "display_name": "ml-research",
   "language": "python",
   "name": "ml-research"
  },
  "language_info": {
   "codemirror_mode": {
    "name": "ipython",
    "version": 3
   },
   "file_extension": ".py",
   "mimetype": "text/x-python",
   "name": "python",
   "nbconvert_exporter": "python",
   "pygments_lexer": "ipython3",
   "version": "3.8.5"
  }
 },
 "nbformat": 4,
 "nbformat_minor": 4
}
